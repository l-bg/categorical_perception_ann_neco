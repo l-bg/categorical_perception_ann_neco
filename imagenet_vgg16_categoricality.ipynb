{
 "cells": [
  {
   "cell_type": "markdown",
   "metadata": {},
   "source": [
    "## Categorical Perception: A Groundwork for Deep Learning\n",
    "#### Laurent Bonnasse-Gahot & Jean-Pierre Nadal\n",
    "Python notebook for reproducing the results presented in Section 3.3.2, Figure 8 (Categoricality as a function of layer depth, using the ImageNet dataset)."
   ]
  },
  {
   "cell_type": "code",
   "execution_count": 1,
   "metadata": {},
   "outputs": [],
   "source": [
    "# force use of CPU\n",
    "import os\n",
    "os.environ[\"CUDA_DEVICE_ORDER\"] = \"PCI_BUS_ID\"\n",
    "os.environ[\"CUDA_VISIBLE_DEVICES\"] = \"\""
   ]
  },
  {
   "cell_type": "code",
   "execution_count": 2,
   "metadata": {},
   "outputs": [],
   "source": [
    "import os\n",
    "import random\n",
    "import numpy as np\n",
    "import tensorflow as tf\n",
    "\n",
    "# for reproducibility\n",
    "SEED = 1\n",
    "os.environ['PYTHONHASHSEED'] = str(SEED)\n",
    "os.environ['TF_DETERMINISTIC_OPS'] = '1'\n",
    "np.random.seed(SEED)\n",
    "random.seed(SEED)\n",
    "tf.random.set_seed(SEED)"
   ]
  },
  {
   "cell_type": "code",
   "execution_count": 3,
   "metadata": {},
   "outputs": [],
   "source": [
    "import pandas as pd\n",
    "import matplotlib.pyplot as plt\n",
    "import seaborn as sns\n",
    "\n",
    "rc={'font.size': 11, 'axes.labelsize': 14, \n",
    "    'xtick.labelsize': 12, 'ytick.labelsize': 12}\n",
    "sns.set(rc=rc)\n",
    "sns.set_style('whitegrid', {'grid.linestyle': ':'})"
   ]
  },
  {
   "cell_type": "code",
   "execution_count": 4,
   "metadata": {},
   "outputs": [],
   "source": [
    "if not os.path.exists('fig'):\n",
    "    os.makedirs('fig')"
   ]
  },
  {
   "cell_type": "code",
   "execution_count": 5,
   "metadata": {},
   "outputs": [],
   "source": [
    "from scipy import stats\n",
    "\n",
    "from tensorflow.keras.preprocessing import image\n",
    "\n",
    "from tensorflow.keras.applications.vgg16 import VGG16\n",
    "from tensorflow.keras.applications.vgg16 import preprocess_input\n",
    "from tensorflow.keras.models import Model"
   ]
  },
  {
   "cell_type": "code",
   "execution_count": 6,
   "metadata": {},
   "outputs": [],
   "source": [
    "imagenet_folder = '/media/lbg/d84ccb5e-3b8d-4866-a439-10aaf995e6a9/data/images/ILSVRC2015/Data/CLS-LOC'\n",
    "\n",
    "y_test_label = pd.read_csv(os.path.join(imagenet_folder,\n",
    "                                        'devkit_2012', 'data',\n",
    "                                        'ILSVRC2012_validation_ground_truth.txt'),\n",
    "                           header=None)[0].to_numpy()"
   ]
  },
  {
   "cell_type": "code",
   "execution_count": 7,
   "metadata": {},
   "outputs": [],
   "source": [
    "img_folder  = os.path.join(imagenet_folder, 'val')"
   ]
  },
  {
   "cell_type": "code",
   "execution_count": 8,
   "metadata": {},
   "outputs": [],
   "source": [
    "n_classes = 1000\n",
    "\n",
    "idx_per_class = [np.flatnonzero(y_test_label == i) for i in range(1,n_classes+1)]"
   ]
  },
  {
   "cell_type": "code",
   "execution_count": 9,
   "metadata": {},
   "outputs": [],
   "source": [
    "model_0 = VGG16(weights=None)\n",
    "model = VGG16(weights='imagenet')"
   ]
  },
  {
   "cell_type": "code",
   "execution_count": 10,
   "metadata": {},
   "outputs": [],
   "source": [
    "def compute_pairs(idx_per_class, n_samples_within, n_samples_between):\n",
    "    n_classes = len(idx_per_class)\n",
    "        \n",
    "    is_within = np.concatenate(([True]*n_samples_within,\n",
    "                                [False]*n_samples_between))\n",
    "\n",
    "    pairs = []\n",
    "    for _ in range(n_samples_within):\n",
    "        i = np.random.randint(n_classes)\n",
    "        pairs.append(np.random.choice(idx_per_class[i], size=2, replace=False))\n",
    "    for _ in range(n_samples_between):  \n",
    "        i, j = np.random.choice(n_classes, size=2, replace=False)\n",
    "        pairs.append([np.random.choice(idx_per_class[i]), \n",
    "                      np.random.choice(idx_per_class[j])])\n",
    "    pairs = np.array(pairs)\n",
    "    return pairs, is_within"
   ]
  },
  {
   "cell_type": "code",
   "execution_count": 11,
   "metadata": {},
   "outputs": [],
   "source": [
    "# distance between two activities\n",
    "def compute_similarity(act1, act2):\n",
    "    return np.dot(act1, act2)/(np.linalg.norm(act1)*np.linalg.norm(act2))\n",
    "\n",
    "def compute_distance(act1, act2):\n",
    "    return 1 - compute_similarity(act1.flatten(), act2.flatten())\n",
    "\n",
    "def compute_distance_between_pairs(activation, pairs, img_idx2id):\n",
    "    n_layers = len(activation)\n",
    "    dist_layers = []\n",
    "    for i in range(n_layers):\n",
    "        dist = []\n",
    "        for idx1, idx2 in pairs:\n",
    "            act1 = activation[i][img_idx2id[idx1]]\n",
    "            act2 = activation[i][img_idx2id[idx2]]\n",
    "            dist.append(compute_distance(act1, act2))\n",
    "        dist_layers.append(np.array(dist))\n",
    "    return np.array(dist_layers)"
   ]
  },
  {
   "cell_type": "code",
   "execution_count": 12,
   "metadata": {},
   "outputs": [],
   "source": [
    "def get_activation_model(model):\n",
    "    layer_outputs = [layer.output for layer in model.layers[1:]]\n",
    "    activation_model = Model(inputs=model.input, outputs=layer_outputs)\n",
    "    return activation_model\n",
    "\n",
    "activation_model_0 = get_activation_model(model_0)\n",
    "activation_model = get_activation_model(model)"
   ]
  },
  {
   "cell_type": "code",
   "execution_count": 13,
   "metadata": {
    "scrolled": true
   },
   "outputs": [
    {
     "name": "stdout",
     "output_type": "stream",
     "text": [
      "part 1 / 50\n",
      "part 2 / 50\n",
      "part 3 / 50\n",
      "part 4 / 50\n",
      "part 5 / 50\n",
      "part 6 / 50\n",
      "part 7 / 50\n",
      "part 8 / 50\n",
      "part 9 / 50\n",
      "part 10 / 50\n",
      "part 11 / 50\n",
      "part 12 / 50\n",
      "part 13 / 50\n",
      "part 14 / 50\n",
      "part 15 / 50\n",
      "part 16 / 50\n",
      "part 17 / 50\n",
      "part 18 / 50\n",
      "part 19 / 50\n",
      "part 20 / 50\n",
      "part 21 / 50\n",
      "part 22 / 50\n",
      "part 23 / 50\n",
      "part 24 / 50\n",
      "part 25 / 50\n",
      "part 26 / 50\n",
      "part 27 / 50\n",
      "part 28 / 50\n",
      "part 29 / 50\n",
      "part 30 / 50\n",
      "part 31 / 50\n",
      "part 32 / 50\n",
      "part 33 / 50\n",
      "part 34 / 50\n",
      "part 35 / 50\n",
      "part 36 / 50\n",
      "part 37 / 50\n",
      "part 38 / 50\n",
      "part 39 / 50\n",
      "part 40 / 50\n",
      "part 41 / 50\n",
      "part 42 / 50\n",
      "part 43 / 50\n",
      "part 44 / 50\n",
      "part 45 / 50\n",
      "part 46 / 50\n",
      "part 47 / 50\n",
      "part 48 / 50\n",
      "part 49 / 50\n",
      "part 50 / 50\n"
     ]
    }
   ],
   "source": [
    "# need to break down the process due to memory limitations\n",
    "n_samples_within = 25\n",
    "n_samples_between = 25\n",
    "\n",
    "n_parts = 50\n",
    "dist_layers_0 = []\n",
    "dist_layers = []\n",
    "is_withins = []\n",
    "for part in range(n_parts):\n",
    "    print('part {} / {}'.format(part+1, n_parts))\n",
    "    pairs, is_within = compute_pairs(idx_per_class, n_samples_within, n_samples_between)\n",
    "    \n",
    "    is_withins.append(is_within)\n",
    "    # img_ids[k] return the idx of image k in imgs\n",
    "    img_ids = np.unique(pairs.flatten())\n",
    "\n",
    "    # from the idx of an image, need to return its id\n",
    "    img_idx2id = {img_id:i for i, img_id in enumerate(img_ids)}\n",
    "\n",
    "    imgs = []\n",
    "    for img_id in img_ids:\n",
    "        img_path = os.path.join(img_folder, 'ILSVRC2012_val_{:08d}.JPEG'.format(img_id+1))\n",
    "        x = image.load_img(img_path, target_size=(224, 224))\n",
    "        x = image.img_to_array(x)\n",
    "        x = np.expand_dims(x, axis=0)\n",
    "        x = preprocess_input(x)\n",
    "        imgs.append(x[0])\n",
    "\n",
    "    imgs = np.array(imgs)\n",
    "        \n",
    "    activation_layers_0 = activation_model_0.predict(imgs)[:-1]\n",
    "    dist_layers_0.append(compute_distance_between_pairs(activation_layers_0, pairs, img_idx2id))\n",
    "\n",
    "    activation_layers = activation_model.predict(imgs)[:-1]\n",
    "    dist_layers.append(compute_distance_between_pairs(activation_layers, pairs, img_idx2id))\n",
    "\n",
    "dist_layers_0 = np.concatenate(dist_layers_0, axis=1)\n",
    "dist_layers = np.concatenate(dist_layers, axis=1)\n",
    "is_within = np.hstack(is_withins)"
   ]
  },
  {
   "cell_type": "code",
   "execution_count": 14,
   "metadata": {},
   "outputs": [],
   "source": [
    "layers_name = [layer.name for layer in model.layers[1:]][:-1]\n",
    "n_layers = len(layers_name)\n",
    "\n",
    "# compute distance between the within and between distributions\n",
    "ksstat_layers_0 = [0 for _ in range(n_layers)]\n",
    "\n",
    "for idx_layer in range(n_layers):    \n",
    "    dist = dist_layers_0[idx_layer, :]\n",
    "    ksstat, _  = stats.ks_2samp(dist[~is_within], dist[is_within])\n",
    "    ksstat_layers_0[idx_layer] = ksstat\n",
    "\n",
    "ksstat_layers = [0 for _ in range(n_layers)]\n",
    "\n",
    "for idx_layer in range(n_layers):    \n",
    "    dist = dist_layers[idx_layer, :]\n",
    "    ksstat, _  = stats.ks_2samp(dist[~is_within], dist[is_within])\n",
    "    ksstat_layers[idx_layer] = ksstat"
   ]
  },
  {
   "cell_type": "code",
   "execution_count": 15,
   "metadata": {},
   "outputs": [],
   "source": [
    "# compute bootstrap confidence intervals\n",
    "n = is_within.shape[0]\n",
    "\n",
    "n_boot = 1000\n",
    "\n",
    "ksstat_layers_bs = [[] for _ in range(n_layers)]\n",
    "ksstat_layers_0_bs = [[] for _ in range(n_layers)]\n",
    "for idx_layer in range(n_layers): \n",
    "    dist = dist_layers[idx_layer, :]\n",
    "    for _ in range(n_boot):\n",
    "        idx_boot = np.random.choice(n, n)\n",
    "        ksstat, _  = stats.ks_2samp(dist[idx_boot][~is_within[idx_boot]],\n",
    "                                    dist[idx_boot][is_within[idx_boot]])\n",
    "        ksstat_layers_bs[idx_layer].append(ksstat)\n",
    "    dist = dist_layers_0[idx_layer, :]\n",
    "    for _ in range(n_boot):\n",
    "        idx_boot = np.random.choice(n, n)\n",
    "        ksstat, _  = stats.ks_2samp(dist[idx_boot][~is_within[idx_boot]],\n",
    "                                    dist[idx_boot][is_within[idx_boot]])\n",
    "        ksstat_layers_0_bs[idx_layer].append(ksstat)\n",
    "\n",
    "ksstat_layers_bs = np.array(ksstat_layers_bs)\n",
    "ksstat_layers_0_bs = np.array(ksstat_layers_0_bs)\n",
    "\n",
    "ksstat_layers_ci = []\n",
    "ksstat_layers_0_ci = []\n",
    "for idx_layer in range(n_layers):\n",
    "    ksstat_layers_ci.append(sns.utils.ci(ksstat_layers_bs[idx_layer], which=95))\n",
    "    ksstat_layers_0_ci.append(sns.utils.ci(ksstat_layers_0_bs[idx_layer], which=95))\n",
    "ksstat_layers_ci = np.array(ksstat_layers_ci)\n",
    "ksstat_layers_0_ci = np.array(ksstat_layers_0_ci)"
   ]
  },
  {
   "cell_type": "code",
   "execution_count": 16,
   "metadata": {},
   "outputs": [
    {
     "data": {
      "image/png": "[encoded data removed]",
      "text/plain": [
       "<Figure size 864x288 with 1 Axes>"
      ]
     },
     "metadata": {},
     "output_type": "display_data"
    }
   ],
   "source": [
    "fh = plt.figure(figsize=(12,4))\n",
    "plt.plot(ksstat_layers_0, 'o--', c='0.3', markersize=7, markeredgecolor='w')\n",
    "plt.fill_between(np.arange(n_layers),\n",
    "                 ksstat_layers_0_ci[:,0], \n",
    "                 ksstat_layers_0_ci[:,1], \n",
    "                 facecolor='0.3', alpha=0.2)\n",
    "plt.plot(ksstat_layers, 'o-', c='0.3', markersize=7, markeredgecolor='w')\n",
    "plt.fill_between(np.arange(n_layers),\n",
    "                 ksstat_layers_ci[:,0], \n",
    "                 ksstat_layers_ci[:,1], \n",
    "                 facecolor='0.3', alpha=0.2)\n",
    "\n",
    "plt.xlabel('layer')\n",
    "plt.ylabel('categoricality index')\n",
    "plt.xticks(range(n_layers), layers_name, rotation=60, ha='right', fontsize=8)\n",
    "plt.show()\n",
    "fh.savefig('fig/imagenet_vgg16_categoricality.pdf', bbox_inches='tight')"
   ]
  }
 ],
 "metadata": {
  "kernelspec": {
   "display_name": "cpdl",
   "language": "python",
   "name": "cpdl"
  },
  "language_info": {
   "codemirror_mode": {
    "name": "ipython",
    "version": 3
   },
   "file_extension": ".py",
   "mimetype": "text/x-python",
   "name": "python",
   "nbconvert_exporter": "python",
   "pygments_lexer": "ipython3",
   "version": "3.7.10"
  }
 },
 "nbformat": 4,
 "nbformat_minor": 2
}
