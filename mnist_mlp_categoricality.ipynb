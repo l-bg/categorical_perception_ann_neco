{
 "cells": [
  {
   "cell_type": "markdown",
   "metadata": {},
   "source": [
    "## Categorical Perception: A Groundwork for Deep Learning\n",
    "#### Laurent Bonnasse-Gahot & Jean-Pierre Nadal\n",
    "Python notebook for reproducing the results presented in Section 3.2.4, Figure 6 (Categoricality as a function of layer depth, using the MNIST dataset), panel a, as well as Figure D.2, panel a."
   ]
  },
  {
   "cell_type": "code",
   "execution_count": 1,
   "metadata": {},
   "outputs": [],
   "source": [
    "import os\n",
    "import random\n",
    "import numpy as np\n",
    "import tensorflow as tf\n",
    "\n",
    "# for reproducibility\n",
    "SEED = 1\n",
    "os.environ['PYTHONHASHSEED'] = str(SEED)\n",
    "os.environ['TF_DETERMINISTIC_OPS'] = '1'\n",
    "np.random.seed(SEED)\n",
    "random.seed(SEED)\n",
    "tf.random.set_seed(SEED)"
   ]
  },
  {
   "cell_type": "code",
   "execution_count": 2,
   "metadata": {},
   "outputs": [],
   "source": [
    "import pandas as pd\n",
    "import matplotlib.pyplot as plt\n",
    "import seaborn as sns\n",
    "\n",
    "rc={'font.size': 11, 'axes.labelsize': 14, \n",
    "    'xtick.labelsize': 12, 'ytick.labelsize': 12}\n",
    "sns.set(rc=rc)\n",
    "sns.set_style('whitegrid', {'grid.linestyle': ':'})"
   ]
  },
  {
   "cell_type": "code",
   "execution_count": 3,
   "metadata": {},
   "outputs": [],
   "source": [
    "if not os.path.exists('fig'):\n",
    "    os.makedirs('fig')"
   ]
  },
  {
   "cell_type": "code",
   "execution_count": 4,
   "metadata": {},
   "outputs": [],
   "source": [
    "from scipy import stats\n",
    "\n",
    "from tensorflow.keras.models import Model\n",
    "from tensorflow.keras.layers import Input, Dense, GaussianDropout"
   ]
  },
  {
   "cell_type": "code",
   "execution_count": 5,
   "metadata": {},
   "outputs": [],
   "source": [
    "from tensorflow.keras.datasets import mnist\n",
    "\n",
    "n_classes = 10\n",
    "\n",
    "(x_train, y_train), (x_test, y_test) =  mnist.load_data()\n",
    "\n",
    "x_train = x_train.astype('float32') / 255.\n",
    "x_test = x_test.astype('float32') / 255.\n",
    "x_train = x_train.reshape((len(x_train), np.prod(x_train.shape[1:])))\n",
    "x_test = x_test.reshape((len(x_test), np.prod(x_test.shape[1:])))\n",
    "\n",
    "y_train = tf.keras.utils.to_categorical(y_train, n_classes)\n",
    "y_test = tf.keras.utils.to_categorical(y_test, n_classes)\n",
    "\n",
    "input_shape = x_train.shape[1:]"
   ]
  },
  {
   "cell_type": "code",
   "execution_count": 6,
   "metadata": {},
   "outputs": [],
   "source": [
    "def create_model(use_dropout=True):\n",
    "    input_x = Input(shape=input_shape)\n",
    "    x = Dense(1024, activation='relu', name='dense_1')(input_x)\n",
    "    if use_dropout:\n",
    "        x = GaussianDropout(0.1)(x)\n",
    "    x = Dense(1024, activation='relu', name='dense_2')(x)\n",
    "    if use_dropout:\n",
    "        x = GaussianDropout(0.2)(x)\n",
    "    x = Dense(1024, activation='relu', name='dense_3')(x)\n",
    "    if use_dropout:\n",
    "        x = GaussianDropout(0.4)(x)\n",
    "    x = Dense(n_classes, activation='softmax', name='dense_4')(x)\n",
    "    model = Model(input_x, x)\n",
    "    model.compile(loss='categorical_crossentropy',\n",
    "                optimizer='adam',\n",
    "                metrics=['accuracy'])\n",
    "    return model"
   ]
  },
  {
   "cell_type": "code",
   "execution_count": 7,
   "metadata": {},
   "outputs": [],
   "source": [
    "def get_activation(model, x):\n",
    "    layer_outputs = [layer.output for layer in model.layers if layer.name.startswith('dense')][:-1]\n",
    "    activation_model = Model(inputs=model.input, outputs=layer_outputs)\n",
    "    return activation_model(x)\n",
    "\n",
    "def compute_pairs(idx_per_class, n_samples_within, n_samples_between):\n",
    "    n_classes = len(idx_per_class)\n",
    "    is_within = np.concatenate(([True]*n_samples_within,\n",
    "                                [False]*n_samples_between))\n",
    "    pairs = []\n",
    "    for _ in range(n_samples_within):\n",
    "        i = np.random.randint(n_classes)\n",
    "        pairs.append(np.random.choice(idx_per_class[i], size=2, replace=False))\n",
    "    for _ in range(n_samples_between):  \n",
    "        i, j = np.random.choice(n_classes, size=2, replace=False)\n",
    "        pairs.append([np.random.choice(idx_per_class[i]), \n",
    "                      np.random.choice(idx_per_class[j])])\n",
    "    return np.array(pairs), is_within\n",
    "\n",
    "def cosine_distance(act1, act2):\n",
    "    return (1 - np.dot(act1, act2)/(np.linalg.norm(act1)*np.linalg.norm(act2)))\n",
    "\n",
    "def compute_distance_between_pairs(activation, pairs):\n",
    "    n_layers = len(activation)\n",
    "    dist_layers = []\n",
    "    for i in range(n_layers):\n",
    "        dist = []\n",
    "        for idx1, idx2 in pairs:\n",
    "            act1 = activation[i][idx1]\n",
    "            act2 = activation[i][idx2]\n",
    "            dist.append(cosine_distance(act1, act2))\n",
    "        dist_layers.append(np.array(dist))\n",
    "    return np.array(dist_layers)\n",
    "\n",
    "def compute_categoricality(model, x_test, pairs):    \n",
    "    activation_layers = get_activation(model, x_test)\n",
    "    dist_layers = compute_distance_between_pairs(activation_layers, pairs)\n",
    "    n_layers = len(dist_layers)\n",
    "    ksstat_layers = [0 for _ in range(n_layers)]\n",
    "    for idx_layer in range(n_layers):    \n",
    "        dist = dist_layers[idx_layer]\n",
    "        ksstat, _  = stats.ks_2samp(dist[~is_within], dist[is_within])\n",
    "        ksstat_layers[idx_layer] = ksstat\n",
    "    return ksstat_layers"
   ]
  },
  {
   "cell_type": "code",
   "execution_count": 8,
   "metadata": {},
   "outputs": [],
   "source": [
    "idx_per_class = [np.flatnonzero(y_test[:,i]) for i in range(n_classes)]"
   ]
  },
  {
   "cell_type": "code",
   "execution_count": 9,
   "metadata": {
    "scrolled": true
   },
   "outputs": [
    {
     "name": "stdout",
     "output_type": "stream",
     "text": [
      "---- computing trial #0 ----\n",
      "---- computing trial #1 ----\n",
      "---- computing trial #2 ----\n",
      "---- computing trial #3 ----\n",
      "---- computing trial #4 ----\n",
      "---- computing trial #5 ----\n",
      "---- computing trial #6 ----\n",
      "---- computing trial #7 ----\n",
      "---- computing trial #8 ----\n",
      "---- computing trial #9 ----\n"
     ]
    }
   ],
   "source": [
    "n_samples_within = 1000\n",
    "n_samples_between = 1000\n",
    "\n",
    "batch_size = 128\n",
    "epochs = 50\n",
    "\n",
    "n_trials = 10\n",
    "\n",
    "df_results = []\n",
    "\n",
    "for trial in range(n_trials):\n",
    "    print('---- computing trial #{} ----'.format(trial))\n",
    "    \n",
    "    pairs, is_within = compute_pairs(idx_per_class, n_samples_within, n_samples_between)\n",
    "    \n",
    "    model = create_model(use_dropout=True)\n",
    "    layers_name = [layer.name for layer in model.layers if layer.name.startswith('dense')][:-1]\n",
    "    \n",
    "    ksstat_layers_init = compute_categoricality(model, x_test, pairs)\n",
    "    df_results.append(pd.DataFrame(\n",
    "                {'layer':layers_name,\n",
    "                 'categoricality':ksstat_layers_init,\n",
    "                 'trial':trial,\n",
    "                 'dropout':1,\n",
    "                 'trained':0}))\n",
    "    \n",
    "    model.fit(x_train, y_train,\n",
    "              batch_size=batch_size,\n",
    "              epochs=epochs,\n",
    "              verbose=0)    \n",
    "    ksstat_layers = compute_categoricality(model, x_test, pairs)                      \n",
    "    df_results.append(pd.DataFrame(\n",
    "            {'layer':layers_name,\n",
    "             'categoricality':ksstat_layers,\n",
    "             'trial':trial,\n",
    "             'dropout':1,\n",
    "             'trained':1}))\n",
    "    \n",
    "    model = create_model(use_dropout=False)\n",
    "    model.fit(x_train, y_train,\n",
    "              batch_size=batch_size,\n",
    "              epochs=epochs,\n",
    "              verbose=0)    \n",
    "    ksstat_layers = compute_categoricality(model, x_test, pairs)                      \n",
    "    df_results.append(pd.DataFrame(\n",
    "            {'layer':layers_name,\n",
    "             'categoricality':ksstat_layers,\n",
    "             'trial':trial,\n",
    "             'dropout':0,\n",
    "             'trained':1}))\n",
    "\n",
    "df_results = pd.concat(df_results)"
   ]
  },
  {
   "cell_type": "code",
   "execution_count": 10,
   "metadata": {},
   "outputs": [
    {
     "data": {
      "image/png": "[encoded data removed]",
      "text/plain": [
       "<Figure size 288x216 with 1 Axes>"
      ]
     },
     "metadata": {},
     "output_type": "display_data"
    }
   ],
   "source": [
    "fh = plt.figure(figsize=(4,3))\n",
    "ax = plt.subplot(111)\n",
    "sns.lineplot(x='layer', y='categoricality', hue='trained', data=df_results[df_results.dropout==1], \n",
    "             palette=['0.3', '0.3'],\n",
    "             style='trained',\n",
    "             dashes=[(4,2), ()],\n",
    "             markers=['o']*2,\n",
    "             markersize=7,\n",
    "             ax=ax, legend=False)\n",
    "plt.xlabel('layer')\n",
    "plt.ylabel('categoricality index')\n",
    "plt.xticks(range(len(layers_name)), layers_name, rotation=40, ha='right')\n",
    "plt.ylim((0.33, 1.0))\n",
    "plt.show()\n",
    "fh.savefig('fig/mnist_mlp_categoricality.pdf', bbox_inches='tight')"
   ]
  },
  {
   "cell_type": "code",
   "execution_count": 11,
   "metadata": {},
   "outputs": [
    {
     "data": {
      "image/png": "[encoded data removed]",
      "text/plain": [
       "<Figure size 288x216 with 1 Axes>"
      ]
     },
     "metadata": {},
     "output_type": "display_data"
    }
   ],
   "source": [
    "fh = plt.figure(figsize=(4,3))\n",
    "ax = plt.subplot(111)\n",
    "sns.lineplot(x='layer', y='categoricality', hue='trained', data=df_results[df_results.dropout==1], \n",
    "             palette=['0.3', '0.3'],\n",
    "             style='trained',\n",
    "             dashes=[(4,2), ()],\n",
    "             markers=['o']*2,\n",
    "             markersize=7,\n",
    "             ax=ax, legend=False)\n",
    "sns.lineplot(x='layer', y='categoricality', data=df_results[df_results.dropout==0],\n",
    "             color='tab:orange', marker='o',        \n",
    "             markersize=7,\n",
    "             ax=ax, legend=False, alpha=0.6)\n",
    "plt.xlabel('layer')\n",
    "plt.ylabel('categoricality index')\n",
    "plt.xticks(range(len(layers_name)), layers_name, rotation=40, ha='right')\n",
    "plt.ylim((0.33, 1.0))\n",
    "plt.show()\n",
    "fh.savefig('fig/mnist_mlp_categoricality_nodropout.pdf', bbox_inches='tight')"
   ]
  }
 ],
 "metadata": {
  "anaconda-cloud": {},
  "kernelspec": {
   "display_name": "cpdl",
   "language": "python",
   "name": "cpdl"
  },
  "language_info": {
   "codemirror_mode": {
    "name": "ipython",
    "version": 3
   },
   "file_extension": ".py",
   "mimetype": "text/x-python",
   "name": "python",
   "nbconvert_exporter": "python",
   "pygments_lexer": "ipython3",
   "version": "3.7.10"
  }
 },
 "nbformat": 4,
 "nbformat_minor": 2
}
